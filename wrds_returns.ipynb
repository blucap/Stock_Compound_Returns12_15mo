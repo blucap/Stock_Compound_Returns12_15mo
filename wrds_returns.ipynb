{
 "cells": [
  {
   "cell_type": "markdown",
   "metadata": {},
   "source": [
    "# Stock Compound Returns for 12 and 15 months after the start of the year\n",
    "Date      : August 28, 2021                                                      \n",
    "Author    : Martien Lubberink, based on a SAS script from Rabih Moussawi, see this [link](https://wrds-www.wharton.upenn.edu/pages/support/applications/risk-and-valuation-measures/stock-return-volatility-and-compound-returns-and-after-fiscal-year-ends/)\n",
    "\n",
    "- Inputs are CRSP Monthly File and Compustat Data with FPE Dates\n",
    "- Linking CRSP and Compustat using CCM \n",
    "- 12 and 15-Month Compound Returns are computed for Stocks and for the Market Index\n",
    "- Computes 24-Month Total Stock Volatility, and Book Value of Equity \n",
    "\n",
    "You need to install the WRDS library, see this [link](https://pypi.org/project/wrds/)\n",
    "\n",
    "Then run this once to set the pgpass file:\n",
    "\n",
    "    import wrds\n",
    "    db = wrds.Connection(wrds_username='yours')\n",
    "    db.create_pgpass_file()\n",
    "    \n",
    "For the calcualtion of pref shares, I use [the SAS 'coalesce' equivalent for python}(https://stackoverflow.com/questions/38152389/coalesce-values-from-2-columns-into-a-single-column-in-a-pandas-dataframe)\n",
    "\n",
    "For the mapping of returns to fiscal years, see this [sheet](https://docs.google.com/spreadsheets/d/e/2PACX-1vTn99bA4H6VWjQZmSpQ5NiK8uA_rx0ZhSdBBEOr6j_adfTqjgjtKucfTCo5kffVPzTdIHwH5v7Fe--c/pubhtml) for the logic.\n",
    " "
   ]
  },
  {
   "cell_type": "code",
   "execution_count": null,
   "metadata": {},
   "outputs": [],
   "source": [
    "import pandas as pd\n",
    "import numpy as np\n",
    "import wrds\n",
    "import datetime as dt\n",
    "\n",
    "from pandas.tseries.offsets import MonthEnd\n",
    "from pandas.tseries.offsets import YearEnd\n",
    "\n",
    "db = wrds.Connection(wrds_username='xxxxxx')"
   ]
  },
  {
   "cell_type": "code",
   "execution_count": null,
   "metadata": {},
   "outputs": [],
   "source": [
    "%matplotlib inline"
   ]
  },
  {
   "cell_type": "code",
   "execution_count": null,
   "metadata": {},
   "outputs": [],
   "source": [
    "# Not needed, but nice for referencing variables\n",
    "WrdsLib = db.list_libraries()\n",
    "WComp = db.list_tables(library='comp')\n",
    "WCompFunda = db.describe_table(library='comp', table='funda')\n",
    "WCrspcompustatLinkTable =    db.describe_table(library='crsp', table='ccmxpf_linktable')\n",
    "WCrspMsf = db.describe_table(library='crsp', table='msf')\n",
    "WCrspMsi = db.describe_table(library='crsp', table='msi')\n",
    "WCrspMsenames = db.describe_table(library='crsp', table='msenames')\n",
    "WCompComp = db.describe_table(library='comp', table='company') # for company data sc code: sic in company\n",
    "WCompFundq = db.describe_table(library='comp', table='fundq')\n",
    "WCompSec = db.describe_table(library='comp', table='secm')\n",
    "WCrspDelist = db.describe_table(library='crsp', table='msedelist')"
   ]
  },
  {
   "cell_type": "code",
   "execution_count": null,
   "metadata": {},
   "outputs": [],
   "source": [
    "# Set dates\n",
    "begdate = '12/31/2015'\n",
    "enddate = '12/31/2020'"
   ]
  },
  {
   "cell_type": "code",
   "execution_count": null,
   "metadata": {},
   "outputs": [],
   "source": [
    "#%% It takes a while to get the CCM file\n",
    "def ccm_data():\n",
    "    ccm_m = db.raw_sql(\"\"\"\n",
    "    select a.gvkey, a.datadate, b.lpermno as permno, b.lpermco as permco, b.LINKENDDT, b.LINKDT, b.LINKTYPE\n",
    "    from comp.funda a,\n",
    "    crsp.ccmxpf_linktable as b\n",
    "    where a.gvkey=b.gvkey\n",
    "    and a.datafmt = 'STD' and a.consol = 'C' and a.indfmt = 'INDL'\n",
    "    and b.linkprim in ('P', 'C')\n",
    "    and b.LINKTYPE in ('LU', 'LC')\n",
    "    and a.datadate >= b.LINKDT and (a.datadate <= b.LINKENDDT or b.LINKENDDT IS NULL)\n",
    "    \"\"\")\n",
    "    ccm_m[['datadate',  'linkenddt', 'linkdt']] = ccm_m[['datadate',  'linkenddt', 'linkdt']].apply(pd.to_datetime, errors='coerce')\n",
    "    ccm_m.dropna(subset = ['gvkey', 'permno','permco', 'datadate'], inplace= True)\n",
    "    ccm_m[['permno','permco']] = ccm_m[['permno','permco']].astype(int)\n",
    "    ccm_m.set_index(['gvkey','datadate'], inplace= True)\n",
    "    return ccm_m\n",
    "\n",
    "ccm_m = ccm_data()"
   ]
  },
  {
   "cell_type": "code",
   "execution_count": null,
   "metadata": {},
   "outputs": [],
   "source": [
    "# Retrieve a whole bunch of accounting data. Note that I filter on ni, ceq, sale, fic\n",
    "\n",
    "def annual_acc__data(begdate, ccm_m):\n",
    "    #  'year' will be based on datadate\n",
    "    df_ann = db.raw_sql(\"\"\"\n",
    "                        select gvkey,datadate,pstkrv,pstkl,pstk,at,ceq,cstk,re,seq,txdb,itcb,conm,cik,exchg,fyr,fic,ci,csho,teq,ni,fyear,sale,caps,tstk,tstkc,tstkp,tstkn,citotal,dvc,dvp\n",
    "                        from comp.funda\n",
    "                        where indfmt='INDL'\n",
    "                        and datafmt='STD'\n",
    "                        and popsrc='D'\n",
    "                        and consol='C'\n",
    "                        and fic='USA'\n",
    "                        and ni<>0\n",
    "                        and ceq<>0\n",
    "                        and sale>0\n",
    "                        and datadate >= '%(begdate)s'\n",
    "                        \"\"\" % {'begdate' : begdate})\n",
    "    df_ann['datadate'] = pd.to_datetime(df_ann['datadate'])  # convert datadate to date format\n",
    "    df_ann['year'] = df_ann['datadate'].dt.year\n",
    "\n",
    "    # prefs \n",
    "    df_ann['pref'] = df_ann[['pstkrv', 'pstkl', 'pstk']].bfill(axis=1).iloc[:, 0].mul(-1)\n",
    "\n",
    "    # book equity\n",
    "    df_ann['be'] = df_ann[['seq', 'itcb', 'pstk', 'pref']].sum(axis=1)\n",
    "    df_ann.set_index([\"gvkey\", \"datadate\"], inplace=True)\n",
    "\n",
    "    # merge with CCM\n",
    "    df_ann = df_ann.join(ccm_m[['permno', 'permco']])\n",
    "    df_ann.dropna(subset=['permno', 'permco'], inplace=True)\n",
    "    df_ann[['permno', 'permco']] = df_ann[['permno', 'permco']].astype(int)\n",
    "    return df_ann  # [['conm', 'year', 'fyear', 'fyr', 'at', 'ni', 'sale', 'be','caps', 'tstk', 'tstkc', 'tstkp', 'tstkn', 'citotal', 'dvc', 'dvp','pstkrv', 'pstkl', 'pstk', 'ceq', 'cstk', 're', 'seq', 'txdb', 'itcb', 'cik', 'exchg', 'fic', 'ci', 'csho', 'teq']]\n",
    "\n",
    "df_ann = annual_acc__data(begdate, ccm_m)"
   ]
  },
  {
   "cell_type": "code",
   "execution_count": null,
   "metadata": {},
   "outputs": [],
   "source": [
    "df_ann"
   ]
  },
  {
   "cell_type": "code",
   "execution_count": null,
   "metadata": {},
   "outputs": [],
   "source": [
    "# Monthly returns and some other vars for calculation of share price and tso, see below\n",
    "\n",
    "def monthly_returns(begdate, enddate):\n",
    "    #  'year' will be based on datadate\n",
    "    dfm = db.raw_sql(\"\"\"\n",
    "                     select a.permco, a.permno, a.date, a.ret, a.prc, a.cfacpr, a.shrout, a.cfacshr\n",
    "                     from crsp.msf as a, crsp.msenames as b\n",
    "                     where a.date between '%(begdate)s' and '%(enddate)s'\n",
    "                     and a.permno=b.permno\n",
    "                     and b.namedt<=a.date\n",
    "                     and a.date<=b.nameendt\n",
    "                     and b.shrcd in (10,11)\n",
    "                     order by permno, date\n",
    "                     \"\"\" % {'begdate' : begdate, 'enddate' : enddate})\n",
    "    dfm['datadate'] = pd.to_datetime(dfm['date']) + MonthEnd(0)\n",
    "    dfm['permno'] = dfm['permno'].astype(int)\n",
    "    dfm['year'] = dfm['datadate'].dt.year\n",
    "    dfm.set_index(['permno', 'datadate'], inplace=True)\n",
    "    return dfm"
   ]
  },
  {
   "cell_type": "code",
   "execution_count": null,
   "metadata": {},
   "outputs": [],
   "source": [
    "dfm = monthly_returns(begdate, enddate)"
   ]
  },
  {
   "cell_type": "code",
   "execution_count": null,
   "metadata": {},
   "outputs": [],
   "source": [
    "dfm"
   ]
  },
  {
   "cell_type": "code",
   "execution_count": null,
   "metadata": {},
   "outputs": [],
   "source": [
    "# Monthly index returns\n",
    "def index_returns(begdate, enddate, dfm):\n",
    "    dfi = db.raw_sql(\"select date, vwretd from crsp.msi where date between '%(begdate)s' and '%(enddate)s'\" % {'begdate' : begdate, 'enddate' : enddate})\n",
    "    dfi['datadate'] = pd.to_datetime(dfi['date']) + MonthEnd(0)\n",
    "    dfi.set_index(['datadate'], inplace=True)\n",
    "    return dfm.swaplevel().join(dfi['vwretd']).swaplevel()\n",
    "\n",
    "dfm = index_returns(begdate, enddate, dfm)"
   ]
  },
  {
   "cell_type": "code",
   "execution_count": null,
   "metadata": {},
   "outputs": [],
   "source": [
    "dfm"
   ]
  },
  {
   "cell_type": "code",
   "execution_count": null,
   "metadata": {},
   "outputs": [],
   "source": [
    "# Monthly Delisting returns - the original returns are kept: org_ret\n",
    "def delisting_returns(begdate, enddate, dfm):\n",
    "    #  year will be based on datadate\n",
    "    dfi = db.raw_sql(\"select permno, dlstdt, dlret from crsp.msedelist where dlstdt between '%(begdate)s' and '%(enddate)s'\" % {'begdate' : begdate, 'enddate' : enddate})\n",
    "    dfi['datadate'] = pd.to_datetime(dfi['dlstdt']) + MonthEnd(0)\n",
    "    dfi.set_index(['permno', 'datadate'], inplace=True)\n",
    "    # dfi['year']   = dfi.index.get_level_values(0).year\n",
    "    dfn = dfm.swaplevel().join(dfi['dlret']).swaplevel()\n",
    "    df_up = dfn[['ret', 'dlret']].copy()\n",
    "    df_up += 1\n",
    "    df_up['dl_ret'] = df_up.prod(axis=1)\n",
    "    df_up -= 1\n",
    "    dfn = dfn.join(df_up['dl_ret'])\n",
    "    dfn.rename(columns={'dl_ret': 'ret', 'ret': 'org_ret'}, inplace=True)\n",
    "    return dfn\n",
    "dfm = delisting_returns(begdate, enddate, dfm)"
   ]
  },
  {
   "cell_type": "code",
   "execution_count": null,
   "metadata": {},
   "outputs": [],
   "source": [
    "testm = dfm.loc[dfm.permco ==  20000]\n",
    "testm"
   ]
  },
  {
   "cell_type": "code",
   "execution_count": null,
   "metadata": {},
   "outputs": [],
   "source": [
    "# Assigning returns to the proper time-period\n",
    "\n",
    "def align_fyr(dfm):  \n",
    "    # join returns with 'fyr', 'permco', 'year' and set index on permco and year\n",
    "    dfs = dfm.reset_index().set_index(['permco', 'year']).join(df_ann[['fyr', 'permco', 'year']].reset_index()[['gvkey', 'fyr', 'permco', 'year']].set_index(['permco', 'year']))\n",
    "    # make a dict of periods and fiscal year end numbers\n",
    "    months = ['A-' + x.upper() for x in ['Jan', 'Feb', 'Mar', 'Apr', 'May', 'Jun', 'Jul', 'Aug', 'Sep', 'Oct', 'Nov', 'Dec']]\n",
    "    months_dic = dict(zip(months, list(range(1, 13))))\n",
    "    dfr = pd.DataFrame()\n",
    "    for key, value in months_dic.items():\n",
    "        print(key)\n",
    "        # Select obs for a fyr value [1-12]\n",
    "        dfp = dfs.loc[dfs['fyr'] == value, ['datadate', 'ret', 'vwretd']].copy()\n",
    "        # Convert the period into an integer, not elegant, but it works\n",
    "        dfp['period'] = pd.PeriodIndex(dfp['datadate'], freq=key).astype(str).astype(int)\n",
    "        dfp = dfp.reset_index().set_index(['permco', 'period', 'datadate'])\n",
    "        # Determine the returns\n",
    "        dfp[['ret', 'vwretd']] += 1\n",
    "        dfp = dfp.groupby(['permco',  'period'])[['ret', 'vwretd']].prod()\n",
    "        dfp[['ret', 'vwretd']] -= 1\n",
    "        dfr = dfr.append(dfp)\n",
    "    dfr.sort_index(level=['permco', 'period'], inplace=True)\n",
    "    dfr.rename(columns={'period': 'year'}, inplace=True)\n",
    "    # year now replaces period\n",
    "    dfr.index.names = ['permco', 'year']\n",
    "    return dfr\n",
    "\n",
    "\n",
    "df1 = align_fyr(dfm)\n",
    "test_firm1 = df1.loc[[5,357,7, 20000]]\n",
    "test_firm1"
   ]
  },
  {
   "cell_type": "code",
   "execution_count": null,
   "metadata": {},
   "outputs": [],
   "source": [
    "# Assigning returns from three months after the fiscal year to the prior year to obtain 3-months post FYE return\n",
    "\n",
    "def add_quarters(dfm, yearback):\n",
    "    dfs = dfm.reset_index().set_index(['permco', 'year']).join(df_ann[['fyr', 'permco', 'year']].reset_index()[['gvkey', 'fyr', 'permco', 'year']].set_index(['permco', 'year']))\n",
    "    # year is based on datadate\n",
    "    quarters = ['Q-' + x.upper() for x in ['Jan', 'Feb', 'Mar', 'Apr', 'May', 'Jun', 'Jul', 'Aug', 'Sep', 'Oct', 'Nov', 'Dec']]\n",
    "    quarters_dic = dict(zip(quarters, list(range(1, 13))))\n",
    "    dfr = pd.DataFrame()\n",
    "    for key, value in quarters_dic.items():\n",
    "        print(key)\n",
    "        dfp = dfs.loc[dfs['fyr'] == value, ['datadate', 'ret', 'vwretd']].copy()\n",
    "        dfp['quarter'] = dfp['datadate'].dt.to_period(key).astype(str)  \n",
    "        dfp['period_from_quarter'] = dfp['quarter'].str[:4].astype(int) # Extract year from period\n",
    "        dfp['quarter_num'] = dfp['quarter'].str[-1:].astype(int) # Extract quarter number from period\n",
    "        # obtain only 1st quarter\n",
    "        dfp = dfp.loc[dfp['quarter_num'] == 1].copy()\n",
    "        dfp = dfp.reset_index().set_index(['permco', 'period_from_quarter', 'datadate'])\n",
    "        # Determine the returns\n",
    "        dfp[['ret', 'vwretd']] += 1\n",
    "        dfp = dfp.groupby(['permco',  'period_from_quarter'])[['ret', 'vwretd']].prod()\n",
    "        dfp[['ret', 'vwretd']] -= 1\n",
    "        dfr = dfr.append(dfp)\n",
    "    dfr.sort_index(level=['permco', 'period_from_quarter'], inplace=True)\n",
    "    dfr['year'] = dfr.index.get_level_values(1)\n",
    "    # Make sure the 3 monts returns matches with the prior year\n",
    "    dfr['year'] -= yearback\n",
    "    dfr.rename(columns={'ret': 'ret90', 'vwretd': 'vwretd90'}, inplace=True)\n",
    "    dfr = dfr.reset_index().set_index(['permco', 'year'])\n",
    "    return dfr\n",
    "\n",
    "\n",
    "df2 = add_quarters(dfm, 1)\n",
    "\n",
    "test_firm2 = df2.loc[20000]\n",
    "test_firm2"
   ]
  },
  {
   "cell_type": "code",
   "execution_count": null,
   "metadata": {},
   "outputs": [],
   "source": [
    "#%% Merge the two return sets to obtain 15-months return\n",
    "def add_90_days_returns(df1, df2, skipper):\n",
    "    # skipper determines if we can compound over both periods if the last period is missing\n",
    "    dfn = df1.join(df2[['ret90', 'vwretd90']])\n",
    "    df_up = dfn.copy()\n",
    "    df_up += 1\n",
    "    df_up['ret15']   = df_up[['ret',    'ret90']].prod(axis=1, skipna=skipper)\n",
    "    df_up['vwret15'] = df_up[['vwretd', 'vwretd90']].prod(axis=1, skipna=skipper)\n",
    "    df_up -= 1\n",
    "    dfn = dfn.join(df_up[['ret15', 'vwret15']])\n",
    "    return dfn\n",
    "\n",
    "\n",
    "df_full_returns = add_90_days_returns(df1, df2, False)\n",
    "\n",
    "test_firm3 = df_full_returns.loc[20000]\n",
    "\n",
    "test_firm3"
   ]
  },
  {
   "cell_type": "code",
   "execution_count": null,
   "metadata": {},
   "outputs": [],
   "source": [
    "# Merge with accounting data to obtain end result\n",
    "\n",
    "df_merged = df_ann.reset_index().merge(df_full_returns.reset_index(), on = ['permco', 'year']).set_index(['gvkey', 'datadate'])"
   ]
  },
  {
   "cell_type": "code",
   "execution_count": null,
   "metadata": {},
   "outputs": [],
   "source": [
    "# Diognostics here\n",
    "# Show returns histo\n",
    "df_merged.ret.clip(upper=5.0).hist(bins = 100)\n",
    "test_all = df_merged.loc[df_merged.permco ==  20000]\n",
    "test_all"
   ]
  },
  {
   "cell_type": "code",
   "execution_count": null,
   "metadata": {},
   "outputs": [],
   "source": [
    "#%% Nice to have tools - get the accounting for MSFT\n",
    "def retrieve_accounting_data(firm):\n",
    "    df = db.raw_sql(\"\"\"select gvkey, datadate, at, re\n",
    "               from comp.funda\n",
    "               where gvkey = '%(gvkey)s'\n",
    "               \"\"\" % {'gvkey' : firm})\n",
    "    df['datadate']=pd.to_datetime(df['datadate']) #convert datadate to date fmt\n",
    "    df.set_index([\"gvkey\", \"datadate\"], inplace= True)\n",
    "    return df\n",
    "\n",
    "msft_acc = retrieve_accounting_data('012141')\n",
    "msft_acc"
   ]
  },
  {
   "cell_type": "code",
   "execution_count": null,
   "metadata": {},
   "outputs": [],
   "source": [
    "#%% Nice to have tools - get the accounting for MSFT\n",
    "def retrieve_price_data(firm):\n",
    "    df = db.raw_sql(\"\"\"select permco, permno, date, ret, prc, cfacpr, shrout, cfacshr\n",
    "               from crsp.msf\n",
    "               where permco = '%(permco)s'\n",
    "               \"\"\" % {'permco' : str(firm)})\n",
    "    df['datadate']=pd.to_datetime(df['date']) #convert datadate to date fmt\n",
    "    df.set_index([\"permco\", \"datadate\"], inplace= True)\n",
    "    df =  df.assign(price = lambda x: abs(x['prc'])/df['cfacpr'],\n",
    "                    tso =   lambda x: x['shrout']*x['cfacshr']*1000,\n",
    "                    mv =    lambda x: x['price']*x['tso']/1000000\n",
    "                    )\n",
    "    return df"
   ]
  },
  {
   "cell_type": "code",
   "execution_count": null,
   "metadata": {},
   "outputs": [],
   "source": [
    "msftp = retrieve_price_data(8048)\n",
    "msftp.mv.plot()\n"
   ]
  },
  {
   "cell_type": "code",
   "execution_count": null,
   "metadata": {},
   "outputs": [],
   "source": [
    "msftp.reset_index(level = 'permco').mv.plot()"
   ]
  },
  {
   "cell_type": "code",
   "execution_count": null,
   "metadata": {},
   "outputs": [],
   "source": [
    "dfm.loc[dfm.permco==8048, 'prc'].plot()"
   ]
  },
  {
   "cell_type": "code",
   "execution_count": null,
   "metadata": {},
   "outputs": [],
   "source": []
  }
 ],
 "metadata": {
  "anaconda-cloud": {},
  "kernelspec": {
   "display_name": "Python 3.7.5 64-bit ('base': conda)",
   "language": "python",
   "name": "python37564bitbaseconda3cfcdbc9481c4e6682c30f61f3739a1b"
  },
  "language_info": {
   "codemirror_mode": {
    "name": "ipython",
    "version": 3
   },
   "file_extension": ".py",
   "mimetype": "text/x-python",
   "name": "python",
   "nbconvert_exporter": "python",
   "pygments_lexer": "ipython3",
   "version": "3.8.11"
  }
 },
 "nbformat": 4,
 "nbformat_minor": 1
}
